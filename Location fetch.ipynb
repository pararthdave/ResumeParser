{
  "nbformat": 4,
  "nbformat_minor": 0,
  "metadata": {
    "colab": {
      "name": "Untitled4.ipynb",
      "provenance": [],
      "authorship_tag": "ABX9TyMs37yIEN8qbqcQBzZL3K6K",
      "include_colab_link": true
    },
    "kernelspec": {
      "name": "python3",
      "display_name": "Python 3"
    },
    "language_info": {
      "name": "python"
    }
  },
  "cells": [
    {
      "cell_type": "markdown",
      "metadata": {
        "id": "view-in-github",
        "colab_type": "text"
      },
      "source": [
        "<a href=\"https://colab.research.google.com/github/pararthdave/ResumeParser/blob/shubham/Location%20fetch.ipynb\" target=\"_parent\"><img src=\"https://colab.research.google.com/assets/colab-badge.svg\" alt=\"Open In Colab\"/></a>"
      ]
    },
    {
      "cell_type": "code",
      "execution_count": null,
      "metadata": {
        "id": "Fw2hEmDJjHvo"
      },
      "outputs": [],
      "source": [
        "!pip install spacy --quite"
      ]
    },
    {
      "cell_type": "code",
      "source": [
        "!sudo apt install build-essential libpoppler-cpp-dev pkg-config python3-dev"
      ],
      "metadata": {
        "id": "Qk2YxPLgjXdM"
      },
      "execution_count": null,
      "outputs": []
    },
    {
      "cell_type": "code",
      "source": [
        "!pip install pdftotext"
      ],
      "metadata": {
        "id": "HBxjQyAkjkHG"
      },
      "execution_count": null,
      "outputs": []
    },
    {
      "cell_type": "code",
      "source": [
        "import pdftotext\n",
        "import spacy"
      ],
      "metadata": {
        "id": "tQhMetkTkUVC"
      },
      "execution_count": 8,
      "outputs": []
    },
    {
      "cell_type": "code",
      "source": [
        "def pdfTotext():\n",
        "  with open(\"/content/ravisatvik.192_Resume.pdf\", \"rb\") as f:\n",
        "      pdf = pdftotext.PDF(f)\n",
        "      for page in pdf:\n",
        "        temp = page\n",
        "      return temp"
      ],
      "metadata": {
        "id": "2wEW_u8AaflR"
      },
      "execution_count": 24,
      "outputs": []
    },
    {
      "cell_type": "code",
      "source": [
        "text = pdfTotext().title()"
      ],
      "metadata": {
        "id": "Hnl2rCwddvJ3"
      },
      "execution_count": 27,
      "outputs": []
    },
    {
      "cell_type": "code",
      "source": [
        "def location(text):\n",
        "  nlp = spacy.load('en_core_web_sm')\n",
        "  doc = nlp(text)\n",
        "  for ent in doc.ents:\n",
        "    if (ent.label_ == 'GPE'):\n",
        "        gpe.append(ent.text)\n",
        "    if gpe == None:\n",
        "      print(\"No location is mentioned in resume\")\n",
        "  return gpe"
      ],
      "metadata": {
        "id": "G62wgdG9kT62"
      },
      "execution_count": 30,
      "outputs": []
    },
    {
      "cell_type": "code",
      "source": [
        "gpe = [] # countries, cities, states\n",
        "gpe = list(set(location(text)))\n"
      ],
      "metadata": {
        "id": "qQON_pHrlN9e"
      },
      "execution_count": 32,
      "outputs": []
    },
    {
      "cell_type": "code",
      "source": [
        ""
      ],
      "metadata": {
        "id": "fpHmWU-YfHA4"
      },
      "execution_count": null,
      "outputs": []
    },
    {
      "cell_type": "markdown",
      "source": [
        "# New Section"
      ],
      "metadata": {
        "id": "SiXdrBj9u-5e"
      }
    }
  ]
}