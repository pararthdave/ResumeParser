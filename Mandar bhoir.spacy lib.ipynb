{
 "cells": [
  {
   "cell_type": "code",
   "execution_count": 14,
   "metadata": {},
   "outputs": [],
   "source": [
    "import spacy\n",
    "nlp=spacy.load(\"en_core_web_sm\")\n"
   ]
  },
  {
   "cell_type": "code",
   "execution_count": 15,
   "metadata": {},
   "outputs": [
    {
     "data": {
      "text/plain": [
       "elon musk is founder of tesla. Elon Musk cofounded the electronic payment firm PayPal and founded the spacecraft company SpaceX. He became chief executive officer of the electric-car maker Tesla.Elon Musk is considered a genius, who has photographic memory. This helps him to be a natural autodidact soaking up volumes of books. He taught himself programming in the process, which IBM ever tested him to discover his programming aptitude was top notch.Musk was born to a South African father and a Canadian mother. He displayed an early talent for computers and entrepreneurship."
      ]
     },
     "execution_count": 15,
     "metadata": {},
     "output_type": "execute_result"
    }
   ],
   "source": [
    "text=\"elon musk is founder of tesla. Elon Musk cofounded the electronic payment firm PayPal and founded the spacecraft company SpaceX. He became chief executive officer of the electric-car maker Tesla.Elon Musk is considered a genius, who has photographic memory. This helps him to be a natural autodidact soaking up volumes of books. He taught himself programming in the process, which IBM ever tested him to discover his programming aptitude was top notch.Musk was born to a South African father and a Canadian mother. He displayed an early talent for computers and entrepreneurship.\"\n",
    "doc=nlp(text)\n",
    "doc"
   ]
  },
  {
   "cell_type": "code",
   "execution_count": 16,
   "metadata": {},
   "outputs": [
    {
     "name": "stdout",
     "output_type": "stream",
     "text": [
      "elon musk is founder of tesla.\n",
      "\n",
      "Elon Musk cofounded the electronic payment firm PayPal and founded the spacecraft company SpaceX.\n",
      "\n",
      "He became chief executive officer of the electric-car maker Tesla.\n",
      "\n",
      "Elon Musk is considered a genius, who has photographic memory.\n",
      "\n",
      "This helps him to be a natural autodidact soaking up volumes of books.\n",
      "\n",
      "He taught himself programming in the process, which IBM ever tested him to discover his programming aptitude was top notch.\n",
      "\n",
      "Musk was born to a South African father and a Canadian mother.\n",
      "\n",
      "He displayed an early talent for computers and entrepreneurship.\n",
      "\n"
     ]
    }
   ],
   "source": [
    "for sentence in doc.sents:\n",
    "    print(sentence,end=\"\\n\\n\")"
   ]
  },
  {
   "cell_type": "code",
   "execution_count": 17,
   "metadata": {},
   "outputs": [
    {
     "name": "stdout",
     "output_type": "stream",
     "text": [
      "He PRON\n",
      "displayed VERB\n",
      "an DET\n",
      "early ADJ\n",
      "talent NOUN\n",
      "for ADP\n",
      "computers NOUN\n",
      "and CCONJ\n",
      "entrepreneurship NOUN\n",
      ". PUNCT\n"
     ]
    }
   ],
   "source": [
    "for token in sentence:\n",
    "    print(token.text,token.pos_)"
   ]
  },
  {
   "cell_type": "code",
   "execution_count": null,
   "metadata": {},
   "outputs": [],
   "source": []
  }
 ],
 "metadata": {
  "kernelspec": {
   "display_name": "Python 3",
   "language": "python",
   "name": "python3"
  },
  "language_info": {
   "codemirror_mode": {
    "name": "ipython",
    "version": 3
   },
   "file_extension": ".py",
   "mimetype": "text/x-python",
   "name": "python",
   "nbconvert_exporter": "python",
   "pygments_lexer": "ipython3",
   "version": "3.8.5"
  }
 },
 "nbformat": 4,
 "nbformat_minor": 4
}
