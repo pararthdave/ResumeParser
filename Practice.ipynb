{
  "nbformat": 4,
  "nbformat_minor": 0,
  "metadata": {
    "colab": {
      "name": "Practice.ipynb",
      "provenance": [],
      "mount_file_id": "1U3c2F_acmUmYl6xz5cQcYJCv5rAiSI_a",
      "authorship_tag": "ABX9TyPc4QI1UcKdtQqOcpf7GvDO",
      "include_colab_link": true
    },
    "kernelspec": {
      "name": "python3",
      "display_name": "Python 3"
    },
    "language_info": {
      "name": "python"
    }
  },
  "cells": [
    {
      "cell_type": "markdown",
      "metadata": {
        "id": "view-in-github",
        "colab_type": "text"
      },
      "source": [
        "<a href=\"https://colab.research.google.com/github/pararthdave/ResumeParser/blob/Priyanka/Practice.ipynb\" target=\"_parent\"><img src=\"https://colab.research.google.com/assets/colab-badge.svg\" alt=\"Open In Colab\"/></a>"
      ]
    },
    {
      "cell_type": "code",
      "source": [
        "!pip install PyPDF2\n"
      ],
      "metadata": {
        "colab": {
          "base_uri": "https://localhost:8080/"
        },
        "id": "hZIt7buKZWuX",
        "outputId": "8fa7f4af-a5f5-4dcd-93e9-dc6359417f20"
      },
      "execution_count": null,
      "outputs": [
        {
          "output_type": "stream",
          "name": "stdout",
          "text": [
            "Collecting PyPDF2\n",
            "  Downloading PyPDF2-1.26.0.tar.gz (77 kB)\n",
            "\u001b[?25l\r\u001b[K     |████▎                           | 10 kB 23.9 MB/s eta 0:00:01\r\u001b[K     |████████▌                       | 20 kB 30.0 MB/s eta 0:00:01\r\u001b[K     |████████████▊                   | 30 kB 17.0 MB/s eta 0:00:01\r\u001b[K     |█████████████████               | 40 kB 12.0 MB/s eta 0:00:01\r\u001b[K     |█████████████████████▏          | 51 kB 8.2 MB/s eta 0:00:01\r\u001b[K     |█████████████████████████▍      | 61 kB 8.8 MB/s eta 0:00:01\r\u001b[K     |█████████████████████████████▋  | 71 kB 8.7 MB/s eta 0:00:01\r\u001b[K     |████████████████████████████████| 77 kB 4.1 MB/s \n",
            "\u001b[?25hBuilding wheels for collected packages: PyPDF2\n",
            "  Building wheel for PyPDF2 (setup.py) ... \u001b[?25l\u001b[?25hdone\n",
            "  Created wheel for PyPDF2: filename=PyPDF2-1.26.0-py3-none-any.whl size=61102 sha256=bda902e486742d7b50c908bb824dd47eb2dc9ed932bc57495cae51452de0dad8\n",
            "  Stored in directory: /root/.cache/pip/wheels/80/1a/24/648467ade3a77ed20f35cfd2badd32134e96dd25ca811e64b3\n",
            "Successfully built PyPDF2\n",
            "Installing collected packages: PyPDF2\n",
            "Successfully installed PyPDF2-1.26.0\n"
          ]
        }
      ]
    },
    {
      "cell_type": "code",
      "execution_count": null,
      "metadata": {
        "id": "UplmbfBgWP9e"
      },
      "outputs": [],
      "source": [
        "import PyPDF2\n",
        "import spacy\n",
        "import pandas as pd\n",
        "import os"
      ]
    },
    {
      "cell_type": "code",
      "source": [
        "!pip install unrar"
      ],
      "metadata": {
        "colab": {
          "base_uri": "https://localhost:8080/"
        },
        "id": "O0z105K4kZKq",
        "outputId": "ec56dcbe-0548-4f7c-9a5d-46b4ad9562a4"
      },
      "execution_count": null,
      "outputs": [
        {
          "output_type": "stream",
          "name": "stdout",
          "text": [
            "Collecting unrar\n",
            "  Downloading unrar-0.4-py3-none-any.whl (25 kB)\n",
            "Installing collected packages: unrar\n",
            "Successfully installed unrar-0.4\n"
          ]
        }
      ]
    },
    {
      "cell_type": "code",
      "source": [
        "!pip install pypdf2"
      ],
      "metadata": {
        "colab": {
          "base_uri": "https://localhost:8080/"
        },
        "id": "P-3La2Bx06rW",
        "outputId": "52d46521-01b5-40c7-96e3-068a72926700"
      },
      "execution_count": null,
      "outputs": [
        {
          "output_type": "stream",
          "name": "stdout",
          "text": [
            "Collecting pypdf2\n",
            "  Downloading PyPDF2-1.26.0.tar.gz (77 kB)\n",
            "\u001b[?25l\r\u001b[K     |████▎                           | 10 kB 20.1 MB/s eta 0:00:01\r\u001b[K     |████████▌                       | 20 kB 9.5 MB/s eta 0:00:01\r\u001b[K     |████████████▊                   | 30 kB 7.9 MB/s eta 0:00:01\r\u001b[K     |█████████████████               | 40 kB 7.4 MB/s eta 0:00:01\r\u001b[K     |█████████████████████▏          | 51 kB 4.3 MB/s eta 0:00:01\r\u001b[K     |█████████████████████████▍      | 61 kB 4.5 MB/s eta 0:00:01\r\u001b[K     |█████████████████████████████▋  | 71 kB 4.6 MB/s eta 0:00:01\r\u001b[K     |████████████████████████████████| 77 kB 3.1 MB/s \n",
            "\u001b[?25hBuilding wheels for collected packages: pypdf2\n",
            "  Building wheel for pypdf2 (setup.py) ... \u001b[?25l\u001b[?25hdone\n",
            "  Created wheel for pypdf2: filename=PyPDF2-1.26.0-py3-none-any.whl size=61102 sha256=d96229cc3455813ef9eb81dd3b3005f72d72d64b8195ee6a3994926981d37c71\n",
            "  Stored in directory: /root/.cache/pip/wheels/80/1a/24/648467ade3a77ed20f35cfd2badd32134e96dd25ca811e64b3\n",
            "Successfully built pypdf2\n",
            "Installing collected packages: pypdf2\n",
            "Successfully installed pypdf2-1.26.0\n"
          ]
        }
      ]
    },
    {
      "cell_type": "code",
      "source": [
        "!sudo apt install build-essential libpoppler-cpp-dev pkg-config python3-dev"
      ],
      "metadata": {
        "colab": {
          "base_uri": "https://localhost:8080/"
        },
        "id": "tOiE3G9a2KlJ",
        "outputId": "4e699aae-f1d7-4337-c249-2f34975b5e42"
      },
      "execution_count": null,
      "outputs": [
        {
          "output_type": "stream",
          "name": "stdout",
          "text": [
            "Reading package lists... Done\n",
            "Building dependency tree       \n",
            "Reading state information... Done\n",
            "build-essential is already the newest version (12.4ubuntu1).\n",
            "pkg-config is already the newest version (0.29.1-0ubuntu2).\n",
            "python3-dev is already the newest version (3.6.7-1~18.04).\n",
            "python3-dev set to manually installed.\n",
            "The following packages were automatically installed and are no longer required:\n",
            "  cuda-command-line-tools-10-0 cuda-command-line-tools-10-1\n",
            "  cuda-command-line-tools-11-0 cuda-compiler-10-0 cuda-compiler-10-1\n",
            "  cuda-compiler-11-0 cuda-cuobjdump-10-0 cuda-cuobjdump-10-1\n",
            "  cuda-cuobjdump-11-0 cuda-cupti-10-0 cuda-cupti-10-1 cuda-cupti-11-0\n",
            "  cuda-cupti-dev-11-0 cuda-documentation-10-0 cuda-documentation-10-1\n",
            "  cuda-documentation-11-0 cuda-documentation-11-1 cuda-gdb-10-0 cuda-gdb-10-1\n",
            "  cuda-gdb-11-0 cuda-gpu-library-advisor-10-0 cuda-gpu-library-advisor-10-1\n",
            "  cuda-libraries-10-0 cuda-libraries-10-1 cuda-libraries-11-0\n",
            "  cuda-memcheck-10-0 cuda-memcheck-10-1 cuda-memcheck-11-0 cuda-nsight-10-0\n",
            "  cuda-nsight-10-1 cuda-nsight-11-0 cuda-nsight-11-1 cuda-nsight-compute-10-0\n",
            "  cuda-nsight-compute-10-1 cuda-nsight-compute-11-0 cuda-nsight-compute-11-1\n",
            "  cuda-nsight-systems-10-1 cuda-nsight-systems-11-0 cuda-nsight-systems-11-1\n",
            "  cuda-nvcc-10-0 cuda-nvcc-10-1 cuda-nvcc-11-0 cuda-nvdisasm-10-0\n",
            "  cuda-nvdisasm-10-1 cuda-nvdisasm-11-0 cuda-nvml-dev-10-0 cuda-nvml-dev-10-1\n",
            "  cuda-nvml-dev-11-0 cuda-nvprof-10-0 cuda-nvprof-10-1 cuda-nvprof-11-0\n",
            "  cuda-nvprune-10-0 cuda-nvprune-10-1 cuda-nvprune-11-0 cuda-nvtx-10-0\n",
            "  cuda-nvtx-10-1 cuda-nvtx-11-0 cuda-nvvp-10-0 cuda-nvvp-10-1 cuda-nvvp-11-0\n",
            "  cuda-nvvp-11-1 cuda-samples-10-0 cuda-samples-10-1 cuda-samples-11-0\n",
            "  cuda-samples-11-1 cuda-sanitizer-11-0 cuda-sanitizer-api-10-1\n",
            "  cuda-toolkit-10-0 cuda-toolkit-10-1 cuda-toolkit-11-0 cuda-toolkit-11-1\n",
            "  cuda-tools-10-0 cuda-tools-10-1 cuda-tools-11-0 cuda-tools-11-1\n",
            "  cuda-visual-tools-10-0 cuda-visual-tools-10-1 cuda-visual-tools-11-0\n",
            "  cuda-visual-tools-11-1 default-jre dkms freeglut3 freeglut3-dev\n",
            "  keyboard-configuration libargon2-0 libcap2 libcryptsetup12\n",
            "  libdevmapper1.02.1 libfontenc1 libidn11 libip4tc0 libjansson4\n",
            "  libnvidia-cfg1-510 libnvidia-common-460 libnvidia-common-510\n",
            "  libnvidia-extra-510 libnvidia-fbc1-510 libnvidia-gl-510 libpam-systemd\n",
            "  libpolkit-agent-1-0 libpolkit-backend-1-0 libpolkit-gobject-1-0 libxfont2\n",
            "  libxi-dev libxkbfile1 libxmu-dev libxmu-headers libxnvctrl0 libxtst6\n",
            "  nsight-compute-2020.2.1 nsight-compute-2022.1.0 nsight-systems-2020.3.2\n",
            "  nsight-systems-2020.3.4 nsight-systems-2021.5.2 nvidia-dkms-510\n",
            "  nvidia-kernel-common-510 nvidia-kernel-source-510 nvidia-modprobe\n",
            "  nvidia-settings openjdk-11-jre policykit-1 policykit-1-gnome python3-xkit\n",
            "  screen-resolution-extra systemd systemd-sysv udev x11-xkb-utils\n",
            "  xserver-common xserver-xorg-core-hwe-18.04 xserver-xorg-video-nvidia-510\n",
            "Use 'sudo apt autoremove' to remove them.\n",
            "The following additional packages will be installed:\n",
            "  libpoppler-cpp0v5\n",
            "The following NEW packages will be installed:\n",
            "  libpoppler-cpp-dev libpoppler-cpp0v5\n",
            "0 upgraded, 2 newly installed, 0 to remove and 39 not upgraded.\n",
            "Need to get 36.7 kB of archives.\n",
            "After this operation, 188 kB of additional disk space will be used.\n",
            "Get:1 http://archive.ubuntu.com/ubuntu bionic-updates/main amd64 libpoppler-cpp0v5 amd64 0.62.0-2ubuntu2.12 [28.0 kB]\n",
            "Get:2 http://archive.ubuntu.com/ubuntu bionic-updates/main amd64 libpoppler-cpp-dev amd64 0.62.0-2ubuntu2.12 [8,676 B]\n",
            "Fetched 36.7 kB in 1s (52.8 kB/s)\n",
            "debconf: unable to initialize frontend: Dialog\n",
            "debconf: (No usable dialog-like program is installed, so the dialog based frontend cannot be used. at /usr/share/perl5/Debconf/FrontEnd/Dialog.pm line 76, <> line 2.)\n",
            "debconf: falling back to frontend: Readline\n",
            "debconf: unable to initialize frontend: Readline\n",
            "debconf: (This frontend requires a controlling tty.)\n",
            "debconf: falling back to frontend: Teletype\n",
            "dpkg-preconfigure: unable to re-open stdin: \n",
            "Selecting previously unselected package libpoppler-cpp0v5:amd64.\n",
            "(Reading database ... 155113 files and directories currently installed.)\n",
            "Preparing to unpack .../libpoppler-cpp0v5_0.62.0-2ubuntu2.12_amd64.deb ...\n",
            "Unpacking libpoppler-cpp0v5:amd64 (0.62.0-2ubuntu2.12) ...\n",
            "Selecting previously unselected package libpoppler-cpp-dev:amd64.\n",
            "Preparing to unpack .../libpoppler-cpp-dev_0.62.0-2ubuntu2.12_amd64.deb ...\n",
            "Unpacking libpoppler-cpp-dev:amd64 (0.62.0-2ubuntu2.12) ...\n",
            "Setting up libpoppler-cpp0v5:amd64 (0.62.0-2ubuntu2.12) ...\n",
            "Setting up libpoppler-cpp-dev:amd64 (0.62.0-2ubuntu2.12) ...\n",
            "Processing triggers for libc-bin (2.27-3ubuntu1.3) ...\n",
            "/sbin/ldconfig.real: /usr/local/lib/python3.7/dist-packages/ideep4py/lib/libmkldnn.so.0 is not a symbolic link\n",
            "\n"
          ]
        }
      ]
    },
    {
      "cell_type": "code",
      "source": [
        "!pip install pdftotext"
      ],
      "metadata": {
        "colab": {
          "base_uri": "https://localhost:8080/"
        },
        "id": "JqKViThwFsZI",
        "outputId": "40806de3-87f9-40d7-a885-74da64288937"
      },
      "execution_count": null,
      "outputs": [
        {
          "output_type": "stream",
          "name": "stdout",
          "text": [
            "Collecting pdftotext\n",
            "  Downloading pdftotext-2.2.2.tar.gz (113 kB)\n",
            "\u001b[K     |████████████████████████████████| 113 kB 4.1 MB/s \n",
            "\u001b[?25hBuilding wheels for collected packages: pdftotext\n",
            "  Building wheel for pdftotext (setup.py) ... \u001b[?25lerror\n",
            "\u001b[31m  ERROR: Failed building wheel for pdftotext\u001b[0m\n",
            "\u001b[?25h  Running setup.py clean for pdftotext\n",
            "Failed to build pdftotext\n",
            "Installing collected packages: pdftotext\n",
            "    Running setup.py install for pdftotext ... \u001b[?25l\u001b[?25herror\n",
            "\u001b[31mERROR: Command errored out with exit status 1: /usr/bin/python3 -u -c 'import io, os, sys, setuptools, tokenize; sys.argv[0] = '\"'\"'/tmp/pip-install-6smsql60/pdftotext_1b33f0c7396742dbbfe2de5ad16a4077/setup.py'\"'\"'; __file__='\"'\"'/tmp/pip-install-6smsql60/pdftotext_1b33f0c7396742dbbfe2de5ad16a4077/setup.py'\"'\"';f = getattr(tokenize, '\"'\"'open'\"'\"', open)(__file__) if os.path.exists(__file__) else io.StringIO('\"'\"'from setuptools import setup; setup()'\"'\"');code = f.read().replace('\"'\"'\\r\\n'\"'\"', '\"'\"'\\n'\"'\"');f.close();exec(compile(code, __file__, '\"'\"'exec'\"'\"'))' install --record /tmp/pip-record-agtbh9gf/install-record.txt --single-version-externally-managed --compile --install-headers /usr/local/include/python3.7/pdftotext Check the logs for full command output.\u001b[0m\n"
          ]
        }
      ]
    },
    {
      "cell_type": "code",
      "source": [
        "!pip install pdftotext"
      ],
      "metadata": {
        "colab": {
          "base_uri": "https://localhost:8080/"
        },
        "id": "23ylLxF5YPGq",
        "outputId": "ff1e37b8-63be-4211-8a7b-103062b0349e"
      },
      "execution_count": null,
      "outputs": [
        {
          "output_type": "stream",
          "name": "stdout",
          "text": [
            "Collecting pdftotext\n",
            "  Using cached pdftotext-2.2.2.tar.gz (113 kB)\n",
            "Building wheels for collected packages: pdftotext\n",
            "  Building wheel for pdftotext (setup.py) ... \u001b[?25lerror\n",
            "\u001b[31m  ERROR: Failed building wheel for pdftotext\u001b[0m\n",
            "\u001b[?25h  Running setup.py clean for pdftotext\n",
            "Failed to build pdftotext\n",
            "Installing collected packages: pdftotext\n",
            "    Running setup.py install for pdftotext ... \u001b[?25l\u001b[?25herror\n",
            "\u001b[31mERROR: Command errored out with exit status 1: /usr/bin/python3 -u -c 'import io, os, sys, setuptools, tokenize; sys.argv[0] = '\"'\"'/tmp/pip-install-0t3d8z2n/pdftotext_0523187fc2d4455ba2386da756a76d6c/setup.py'\"'\"'; __file__='\"'\"'/tmp/pip-install-0t3d8z2n/pdftotext_0523187fc2d4455ba2386da756a76d6c/setup.py'\"'\"';f = getattr(tokenize, '\"'\"'open'\"'\"', open)(__file__) if os.path.exists(__file__) else io.StringIO('\"'\"'from setuptools import setup; setup()'\"'\"');code = f.read().replace('\"'\"'\\r\\n'\"'\"', '\"'\"'\\n'\"'\"');f.close();exec(compile(code, __file__, '\"'\"'exec'\"'\"'))' install --record /tmp/pip-record-4fs685n_/install-record.txt --single-version-externally-managed --compile --install-headers /usr/local/include/python3.7/pdftotext Check the logs for full command output.\u001b[0m\n"
          ]
        }
      ]
    },
    {
      "cell_type": "code",
      "source": [
        "import PyPDF2\n",
        "import spacy\n",
        "from spacy.matcher import Matcher\n",
        "import pandas as pd\n",
        "import os\n",
        "import pdftotext\n",
        "import re"
      ],
      "metadata": {
        "id": "4SH5Pw0EJiDO",
        "colab": {
          "base_uri": "https://localhost:8080/",
          "height": 371
        },
        "outputId": "756a467c-5653-4fe2-c856-13140597a906"
      },
      "execution_count": null,
      "outputs": [
        {
          "output_type": "error",
          "ename": "ModuleNotFoundError",
          "evalue": "ignored",
          "traceback": [
            "\u001b[0;31m---------------------------------------------------------------------------\u001b[0m",
            "\u001b[0;31mModuleNotFoundError\u001b[0m                       Traceback (most recent call last)",
            "\u001b[0;32m<ipython-input-4-d4f1e31c7a3c>\u001b[0m in \u001b[0;36m<module>\u001b[0;34m()\u001b[0m\n\u001b[1;32m      4\u001b[0m \u001b[0;32mimport\u001b[0m \u001b[0mpandas\u001b[0m \u001b[0;32mas\u001b[0m \u001b[0mpd\u001b[0m\u001b[0;34m\u001b[0m\u001b[0;34m\u001b[0m\u001b[0m\n\u001b[1;32m      5\u001b[0m \u001b[0;32mimport\u001b[0m \u001b[0mos\u001b[0m\u001b[0;34m\u001b[0m\u001b[0;34m\u001b[0m\u001b[0m\n\u001b[0;32m----> 6\u001b[0;31m \u001b[0;32mimport\u001b[0m \u001b[0mpdftotext\u001b[0m\u001b[0;34m\u001b[0m\u001b[0;34m\u001b[0m\u001b[0m\n\u001b[0m\u001b[1;32m      7\u001b[0m \u001b[0;32mimport\u001b[0m \u001b[0mre\u001b[0m\u001b[0;34m\u001b[0m\u001b[0;34m\u001b[0m\u001b[0m\n",
            "\u001b[0;31mModuleNotFoundError\u001b[0m: No module named 'pdftotext'",
            "",
            "\u001b[0;31m---------------------------------------------------------------------------\u001b[0;32m\nNOTE: If your import is failing due to a missing package, you can\nmanually install dependencies using either !pip or !apt.\n\nTo view examples of installing some common dependencies, click the\n\"Open Examples\" button below.\n\u001b[0;31m---------------------------------------------------------------------------\u001b[0m\n"
          ],
          "errorDetails": {
            "actions": [
              {
                "action": "open_url",
                "actionText": "Open Examples",
                "url": "/notebooks/snippets/importing_libraries.ipynb"
              }
            ]
          }
        }
      ]
    },
    {
      "cell_type": "code",
      "source": [
        "!unzip \"/content/dataset_pdf.zip\" -d \"/content/datapdf\""
      ],
      "metadata": {
        "colab": {
          "base_uri": "https://localhost:8080/"
        },
        "id": "palsbA5Ia9Rn",
        "outputId": "08b57455-93cf-402d-a0c3-b779eb124d80"
      },
      "execution_count": null,
      "outputs": [
        {
          "output_type": "stream",
          "name": "stdout",
          "text": [
            "Archive:  /content/dataset_pdf.zip\n",
            "  inflating: /content/datapdf/Resume/Resume.csv  "
          ]
        }
      ]
    },
    {
      "cell_type": "code",
      "source": [
        "!cp -rv /content/drive/MyDrive/DATASET .\n"
      ],
      "metadata": {
        "colab": {
          "base_uri": "https://localhost:8080/"
        },
        "id": "Utx9qjhWLdCS",
        "outputId": "b54eeb86-9bfb-4492-e513-7c2ae6d7658d"
      },
      "execution_count": null,
      "outputs": [
        {
          "output_type": "stream",
          "name": "stdout",
          "text": [
            "'/content/drive/MyDrive/DATASET' -> './DATASET'\n",
            "'/content/drive/MyDrive/DATASET/PriyankaRaikwarRESUME.pdf' -> './DATASET/PriyankaRaikwarRESUME.pdf'\n"
          ]
        }
      ]
    },
    {
      "cell_type": "code",
      "source": [
        "path=\"/content/DATASET\"\n",
        "files = [os.path.join(path, f) for f in os.listdir(path) if os.path.isfile(os.path.join(path,f))]\n",
        "pdfs=[]\n",
        "for i in files:\n",
        "  pdfs.append(i)\n",
        "\n",
        "merger=PyPDF2.PdfFileMerger(strict=False)\n",
        "\n",
        "for pdf in pdfs:\n",
        "  merger.append(pdf)\n",
        "\n",
        "merger.write(\"final.pdf\")\n",
        "\n",
        "#def pdfextract(file):\n",
        " # reader=PyPDF2.PdfFileReader(open(file,'rb'))\n",
        " #page=reader.getNumPages()\n",
        " # count=0\n",
        " #text=[]\n",
        " # while count < page:\n",
        " #  pageObj=reader.getPage(count)\n",
        " #   count+=1\n",
        "#  t=pageObj.extractText()\n",
        " #   print(t)\n",
        "#  text.append(t)\n",
        " # return text"
      ],
      "metadata": {
        "id": "527nm9chgcHO"
      },
      "execution_count": null,
      "outputs": []
    },
    {
      "cell_type": "code",
      "source": [
        "#print(files)"
      ],
      "metadata": {
        "id": "yNEeS_hM2AWp"
      },
      "execution_count": null,
      "outputs": []
    },
    {
      "cell_type": "code",
      "source": [
        "with open(\"final.pdf\",\"rb\") as f:\n",
        "  pdf = pdftotext.PDF(f)"
      ],
      "metadata": {
        "id": "8680qVmePKmR"
      },
      "execution_count": null,
      "outputs": []
    },
    {
      "cell_type": "code",
      "source": [
        "finalpg=[]\n",
        "for page in pdf:\n",
        "  pg=page.strip()\n",
        "  finalpg.append(pg)\n",
        "print(finalpg[0])"
      ],
      "metadata": {
        "colab": {
          "base_uri": "https://localhost:8080/"
        },
        "id": "se8AQt1LQRIz",
        "outputId": "c6380fe5-8062-418a-edfd-7e6d39c73e50"
      },
      "execution_count": null,
      "outputs": [
        {
          "output_type": "stream",
          "name": "stdout",
          "text": [
            "PRIYANKA RAIKWAR\n",
            "CONTACT                                OBJECTIVE\n",
            "H.No:33 Shivasthali Colony, Makronia   To Secure a position where I can efficiently contribute my skills\n",
            "Sagar.                                 and abilities to the growth of organization and build my\n",
            "7974849362                             professional career.\n",
            "Priyankajma17@gmail.com\n",
            "EDUCATION                              PROJECTS\n",
            "MNNIT ALLAHABAD, PRAYAGRAJ             LIBRARY MANAGEMENT SYSTEM | JAVA | MySQL\n",
            "Master of Computer Applications        -2019\n",
            "                                       • Students and admin can login with username and password.\n",
            "CPI: 8.87 (Till 5th sem)         -2022\n",
            "                                       • Admin can add books in database with unique book id.\n",
            "Dr. HARI SINGH GOUR UNIVERSITY |       • Registered students details are available.\n",
            "SAGAR                                  • Admin can check statistics of issued and returned book.\n",
            "Bachelor of Computer Applications      • Calculate fine for returning the book late.\n",
            "CGPA:9.12                        -2018\n",
            "D.M.A SAGAR                            VIDEO CONTROLLING BY HAND GESTURE | PYTHON\n",
            "CLASS XII | CBSE                       -2021\n",
            "Percentage: 71.4%                -2015 • Libraries used are OpenCV and NumPy.\n",
            "                                       • Web camera will detect the hand gesture & respond corresponding\n",
            "D.M.A SAGAR                            to it.\n",
            "CLASS X | CBSE                         • Operation included Pause, play, volume up- down and fast forward.\n",
            "CGPA: 8.0                        -2013\n",
            "                                       FIND VACCINATION SLOT | PYTHON | JSON\n",
            "                                       -2021\n",
            "                                       • Using the Pycharm platform and Postman.\n",
            "                                       • Can check vaccinations slots by PIN code and date.\n",
            "AREA OF INTEREST                       SKILLS\n",
            "       Data structure and Algorithm   PROGRAMMING:\n",
            "                                       Familiar with: C/C++, MySQL\n",
            "       DBMS                           Basics:         Java, Python , HTML, MongoDB\n",
            "       Operating system\n",
            "                                       TECHNICAL:\n",
            "                                       Familiar with: Anaconda, Postman, Net beans, Visual Studio.\n",
            "                                       ACHIEVEMENTS\n",
            " HOBBIES                               ● Certificate of Completion of “ Certified Network Security\n",
            "       To explore new technologies.   Specialist(2020)” by(ICSI)\n",
            "       To read chronicles of freedom  ● Member of Volleyball team(2019) at MNNIT Allahabad\n",
            "        fighters.                      ● Got a gold medal in kabaddi (2019) at MNNIT Allahabad.\n",
            "       Drawing and Sketching          ● Worked as Class Representative in BCA.\n",
            "                                       ● Got second position in National Science Day(2017) Event\n"
          ]
        }
      ]
    },
    {
      "cell_type": "code",
      "source": [
        "nlp=spacy.load('en_core_web_sm')\n",
        "\n",
        "matcher=Matcher(nlp.vocab,validate=True)\n",
        "\n",
        "def extract_name(resume_text):\n",
        "  nlp_text=nlp(resume_text)\n",
        "\n",
        "  pattern=[{'POS':'PROPN'},{'POS':'PROPN'}]\n",
        "  matcher.add('NAME',None, [pattern])\n",
        "\n",
        "  matches = matcher(nlp_text)\n",
        "\n",
        "  for match_id, start, end in matches:\n",
        "    span = nlp_text[start:end]\n",
        "    return span.text"
      ],
      "metadata": {
        "colab": {
          "base_uri": "https://localhost:8080/",
          "height": 243
        },
        "id": "7lrRGA6jRiqd",
        "outputId": "b9567a06-6bb6-4af8-aaa4-fdd80c676e84"
      },
      "execution_count": null,
      "outputs": [
        {
          "output_type": "error",
          "ename": "NameError",
          "evalue": "ignored",
          "traceback": [
            "\u001b[0;31m---------------------------------------------------------------------------\u001b[0m",
            "\u001b[0;31mNameError\u001b[0m                                 Traceback (most recent call last)",
            "\u001b[0;32m<ipython-input-35-f2e6df74aba3>\u001b[0m in \u001b[0;36m<module>\u001b[0;34m()\u001b[0m\n\u001b[1;32m      1\u001b[0m \u001b[0mnlp\u001b[0m\u001b[0;34m=\u001b[0m\u001b[0mspacy\u001b[0m\u001b[0;34m.\u001b[0m\u001b[0mload\u001b[0m\u001b[0;34m(\u001b[0m\u001b[0;34m'en_core_web_sm'\u001b[0m\u001b[0;34m)\u001b[0m\u001b[0;34m\u001b[0m\u001b[0;34m\u001b[0m\u001b[0m\n\u001b[1;32m      2\u001b[0m \u001b[0;34m\u001b[0m\u001b[0m\n\u001b[0;32m----> 3\u001b[0;31m \u001b[0mmatcher\u001b[0m\u001b[0;34m=\u001b[0m\u001b[0mMatcher\u001b[0m\u001b[0;34m(\u001b[0m\u001b[0mnlp\u001b[0m\u001b[0;34m.\u001b[0m\u001b[0mvocab\u001b[0m\u001b[0;34m,\u001b[0m\u001b[0mvalidate\u001b[0m\u001b[0;34m=\u001b[0m\u001b[0;32mTrue\u001b[0m\u001b[0;34m)\u001b[0m\u001b[0;34m\u001b[0m\u001b[0;34m\u001b[0m\u001b[0m\n\u001b[0m\u001b[1;32m      4\u001b[0m \u001b[0;34m\u001b[0m\u001b[0m\n\u001b[1;32m      5\u001b[0m \u001b[0;32mdef\u001b[0m \u001b[0mextract_name\u001b[0m\u001b[0;34m(\u001b[0m\u001b[0mresume_text\u001b[0m\u001b[0;34m)\u001b[0m\u001b[0;34m:\u001b[0m\u001b[0;34m\u001b[0m\u001b[0;34m\u001b[0m\u001b[0m\n",
            "\u001b[0;31mNameError\u001b[0m: name 'Matcher' is not defined"
          ]
        }
      ]
    },
    {
      "cell_type": "markdown",
      "source": [
        ""
      ],
      "metadata": {
        "id": "Lf96aXVY3BME"
      }
    }
  ]
}