{
  "nbformat": 4,
  "nbformat_minor": 0,
  "metadata": {
    "colab": {
      "name": "ResumeParserK.ipynb",
      "provenance": [],
      "collapsed_sections": [],
      "mount_file_id": "1rv67_ZZeHjOAM5CCSFWrAEvoGT15tuy_",
      "authorship_tag": "ABX9TyONntyAIHL45W2taYQ6QCdj",
      "include_colab_link": true
    },
    "kernelspec": {
      "name": "python3",
      "display_name": "Python 3"
    },
    "language_info": {
      "name": "python"
    }
  },
  "cells": [
    {
      "cell_type": "markdown",
      "metadata": {
        "id": "view-in-github",
        "colab_type": "text"
      },
      "source": [
        "<a href=\"https://colab.research.google.com/github/pararthdave/ResumeParser/blob/KetanPawar/ResumeParserK.ipynb\" target=\"_parent\"><img src=\"https://colab.research.google.com/assets/colab-badge.svg\" alt=\"Open In Colab\"/></a>"
      ]
    },
    {
      "cell_type": "code",
      "source": [
        "pip install pypdf2"
      ],
      "metadata": {
        "colab": {
          "base_uri": "https://localhost:8080/"
        },
        "id": "BEmqXrNI9gU-",
        "outputId": "a6d0fce3-428d-4d94-e627-117d6602cfbf"
      },
      "execution_count": 22,
      "outputs": [
        {
          "output_type": "stream",
          "name": "stdout",
          "text": [
            "Collecting pypdf2\n",
            "  Downloading PyPDF2-1.26.0.tar.gz (77 kB)\n",
            "\u001b[?25l\r\u001b[K     |████▎                           | 10 kB 21.4 MB/s eta 0:00:01\r\u001b[K     |████████▌                       | 20 kB 11.4 MB/s eta 0:00:01\r\u001b[K     |████████████▊                   | 30 kB 6.9 MB/s eta 0:00:01\r\u001b[K     |█████████████████               | 40 kB 7.8 MB/s eta 0:00:01\r\u001b[K     |█████████████████████▏          | 51 kB 5.2 MB/s eta 0:00:01\r\u001b[K     |█████████████████████████▍      | 61 kB 5.5 MB/s eta 0:00:01\r\u001b[K     |█████████████████████████████▋  | 71 kB 5.5 MB/s eta 0:00:01\r\u001b[K     |████████████████████████████████| 77 kB 3.0 MB/s \n",
            "\u001b[?25hBuilding wheels for collected packages: pypdf2\n",
            "  Building wheel for pypdf2 (setup.py) ... \u001b[?25l\u001b[?25hdone\n",
            "  Created wheel for pypdf2: filename=PyPDF2-1.26.0-py3-none-any.whl size=61102 sha256=94f2216248f73d792d89520b23ded92f293bed173a22a967c6c7f2a80f049a03\n",
            "  Stored in directory: /root/.cache/pip/wheels/80/1a/24/648467ade3a77ed20f35cfd2badd32134e96dd25ca811e64b3\n",
            "Successfully built pypdf2\n",
            "Installing collected packages: pypdf2\n",
            "Successfully installed pypdf2-1.26.0\n"
          ]
        }
      ]
    },
    {
      "cell_type": "code",
      "source": [
        "import PyPDF2\n",
        "import spacy\n",
        "import pandas as pd\n",
        "import os\n",
        "\n",
        "file = open(\"/content/drive/MyDrive/KetanPawarResume.pdf\",\"rb\")\n",
        "reader = PyPDF2.PdfFileReader(file)\n",
        "page1 = reader.getPage(0)\n",
        "print(reader.numPages)\n",
        "pdfData = (page1.extractText())\n",
        "print(pdfData)"
      ],
      "metadata": {
        "id": "_3ljKFCK9nH7",
        "colab": {
          "base_uri": "https://localhost:8080/"
        },
        "outputId": "0af9f550-283f-4c3c-cdee-bc357e677d0a"
      },
      "execution_count": null,
      "outputs": [
        {
          "output_type": "stream",
          "name": "stdout",
          "text": [
            "1\n",
            "\n"
          ]
        }
      ]
    },
    {
      "cell_type": "code",
      "source": [
        "!sudo apt install build-essential libpoppler-cpp-dev pkg-config python3-dev\n"
      ],
      "metadata": {
        "colab": {
          "base_uri": "https://localhost:8080/"
        },
        "id": "c24tu8Jyt0SR",
        "outputId": "405d8b5e-9863-4120-850f-4d2ff19cac78"
      },
      "execution_count": 16,
      "outputs": [
        {
          "output_type": "stream",
          "name": "stdout",
          "text": [
            "Reading package lists... Done\n",
            "Building dependency tree       \n",
            "Reading state information... Done\n",
            "build-essential is already the newest version (12.4ubuntu1).\n",
            "pkg-config is already the newest version (0.29.1-0ubuntu2).\n",
            "python3-dev is already the newest version (3.6.7-1~18.04).\n",
            "python3-dev set to manually installed.\n",
            "The following packages were automatically installed and are no longer required:\n",
            "  cuda-command-line-tools-10-0 cuda-command-line-tools-10-1\n",
            "  cuda-command-line-tools-11-0 cuda-compiler-10-0 cuda-compiler-10-1\n",
            "  cuda-compiler-11-0 cuda-cuobjdump-10-0 cuda-cuobjdump-10-1\n",
            "  cuda-cuobjdump-11-0 cuda-cupti-10-0 cuda-cupti-10-1 cuda-cupti-11-0\n",
            "  cuda-cupti-dev-11-0 cuda-documentation-10-0 cuda-documentation-10-1\n",
            "  cuda-documentation-11-0 cuda-documentation-11-1 cuda-gdb-10-0 cuda-gdb-10-1\n",
            "  cuda-gdb-11-0 cuda-gpu-library-advisor-10-0 cuda-gpu-library-advisor-10-1\n",
            "  cuda-libraries-10-0 cuda-libraries-10-1 cuda-libraries-11-0\n",
            "  cuda-memcheck-10-0 cuda-memcheck-10-1 cuda-memcheck-11-0 cuda-nsight-10-0\n",
            "  cuda-nsight-10-1 cuda-nsight-11-0 cuda-nsight-11-1 cuda-nsight-compute-10-0\n",
            "  cuda-nsight-compute-10-1 cuda-nsight-compute-11-0 cuda-nsight-compute-11-1\n",
            "  cuda-nsight-systems-10-1 cuda-nsight-systems-11-0 cuda-nsight-systems-11-1\n",
            "  cuda-nvcc-10-0 cuda-nvcc-10-1 cuda-nvcc-11-0 cuda-nvdisasm-10-0\n",
            "  cuda-nvdisasm-10-1 cuda-nvdisasm-11-0 cuda-nvml-dev-10-0 cuda-nvml-dev-10-1\n",
            "  cuda-nvml-dev-11-0 cuda-nvprof-10-0 cuda-nvprof-10-1 cuda-nvprof-11-0\n",
            "  cuda-nvprune-10-0 cuda-nvprune-10-1 cuda-nvprune-11-0 cuda-nvtx-10-0\n",
            "  cuda-nvtx-10-1 cuda-nvtx-11-0 cuda-nvvp-10-0 cuda-nvvp-10-1 cuda-nvvp-11-0\n",
            "  cuda-nvvp-11-1 cuda-samples-10-0 cuda-samples-10-1 cuda-samples-11-0\n",
            "  cuda-samples-11-1 cuda-sanitizer-11-0 cuda-sanitizer-api-10-1\n",
            "  cuda-toolkit-10-0 cuda-toolkit-10-1 cuda-toolkit-11-0 cuda-toolkit-11-1\n",
            "  cuda-tools-10-0 cuda-tools-10-1 cuda-tools-11-0 cuda-tools-11-1\n",
            "  cuda-visual-tools-10-0 cuda-visual-tools-10-1 cuda-visual-tools-11-0\n",
            "  cuda-visual-tools-11-1 default-jre dkms freeglut3 freeglut3-dev\n",
            "  keyboard-configuration libargon2-0 libcap2 libcryptsetup12\n",
            "  libdevmapper1.02.1 libfontenc1 libidn11 libip4tc0 libjansson4\n",
            "  libnvidia-cfg1-510 libnvidia-common-460 libnvidia-common-510\n",
            "  libnvidia-extra-510 libnvidia-fbc1-510 libnvidia-gl-510 libpam-systemd\n",
            "  libpolkit-agent-1-0 libpolkit-backend-1-0 libpolkit-gobject-1-0 libxfont2\n",
            "  libxi-dev libxkbfile1 libxmu-dev libxmu-headers libxnvctrl0 libxtst6\n",
            "  nsight-compute-2020.2.1 nsight-compute-2022.1.0 nsight-systems-2020.3.2\n",
            "  nsight-systems-2020.3.4 nsight-systems-2021.5.2 nvidia-dkms-510\n",
            "  nvidia-kernel-common-510 nvidia-kernel-source-510 nvidia-modprobe\n",
            "  nvidia-settings openjdk-11-jre policykit-1 policykit-1-gnome python3-xkit\n",
            "  screen-resolution-extra systemd systemd-sysv udev x11-xkb-utils\n",
            "  xserver-common xserver-xorg-core-hwe-18.04 xserver-xorg-video-nvidia-510\n",
            "Use 'sudo apt autoremove' to remove them.\n",
            "The following additional packages will be installed:\n",
            "  libpoppler-cpp0v5\n",
            "The following NEW packages will be installed:\n",
            "  libpoppler-cpp-dev libpoppler-cpp0v5\n",
            "0 upgraded, 2 newly installed, 0 to remove and 39 not upgraded.\n",
            "Need to get 36.7 kB of archives.\n",
            "After this operation, 188 kB of additional disk space will be used.\n",
            "Get:1 http://archive.ubuntu.com/ubuntu bionic-updates/main amd64 libpoppler-cpp0v5 amd64 0.62.0-2ubuntu2.12 [28.0 kB]\n",
            "Get:2 http://archive.ubuntu.com/ubuntu bionic-updates/main amd64 libpoppler-cpp-dev amd64 0.62.0-2ubuntu2.12 [8,676 B]\n",
            "Fetched 36.7 kB in 0s (91.0 kB/s)\n",
            "debconf: unable to initialize frontend: Dialog\n",
            "debconf: (No usable dialog-like program is installed, so the dialog based frontend cannot be used. at /usr/share/perl5/Debconf/FrontEnd/Dialog.pm line 76, <> line 2.)\n",
            "debconf: falling back to frontend: Readline\n",
            "debconf: unable to initialize frontend: Readline\n",
            "debconf: (This frontend requires a controlling tty.)\n",
            "debconf: falling back to frontend: Teletype\n",
            "dpkg-preconfigure: unable to re-open stdin: \n",
            "Selecting previously unselected package libpoppler-cpp0v5:amd64.\n",
            "(Reading database ... 155113 files and directories currently installed.)\n",
            "Preparing to unpack .../libpoppler-cpp0v5_0.62.0-2ubuntu2.12_amd64.deb ...\n",
            "Unpacking libpoppler-cpp0v5:amd64 (0.62.0-2ubuntu2.12) ...\n",
            "Selecting previously unselected package libpoppler-cpp-dev:amd64.\n",
            "Preparing to unpack .../libpoppler-cpp-dev_0.62.0-2ubuntu2.12_amd64.deb ...\n",
            "Unpacking libpoppler-cpp-dev:amd64 (0.62.0-2ubuntu2.12) ...\n",
            "Setting up libpoppler-cpp0v5:amd64 (0.62.0-2ubuntu2.12) ...\n",
            "Setting up libpoppler-cpp-dev:amd64 (0.62.0-2ubuntu2.12) ...\n",
            "Processing triggers for libc-bin (2.27-3ubuntu1.3) ...\n",
            "/sbin/ldconfig.real: /usr/local/lib/python3.7/dist-packages/ideep4py/lib/libmkldnn.so.0 is not a symbolic link\n",
            "\n"
          ]
        }
      ]
    },
    {
      "cell_type": "code",
      "source": [
        "!pip install pdftotext"
      ],
      "metadata": {
        "colab": {
          "base_uri": "https://localhost:8080/"
        },
        "id": "FPhAJp_rizVu",
        "outputId": "e9386133-e79c-4a93-f71e-424a4fc538bd"
      },
      "execution_count": 17,
      "outputs": [
        {
          "output_type": "stream",
          "name": "stdout",
          "text": [
            "Collecting pdftotext\n",
            "  Using cached pdftotext-2.2.2.tar.gz (113 kB)\n",
            "Building wheels for collected packages: pdftotext\n",
            "  Building wheel for pdftotext (setup.py) ... \u001b[?25l\u001b[?25hdone\n",
            "  Created wheel for pdftotext: filename=pdftotext-2.2.2-cp37-cp37m-linux_x86_64.whl size=54899 sha256=0da549089205f40e772379ada20a9d842c202cfd22f66740c327bb7b04cd3962\n",
            "  Stored in directory: /root/.cache/pip/wheels/98/19/8e/e8648026db8b7ef3324ad9afa1f7c9109a7e7509846f693ed9\n",
            "Successfully built pdftotext\n",
            "Installing collected packages: pdftotext\n",
            "Successfully installed pdftotext-2.2.2\n"
          ]
        }
      ]
    },
    {
      "cell_type": "code",
      "source": [
        "import pdftotext\n",
        "\n",
        "with open(\"/content/drive/MyDrive/KetanPawarResume.pdf\", \"rb\") as f:\n",
        "    pdf = pdftotext.PDF(f)\n",
        "\n",
        "for page in pdf:\n",
        "    print(page)"
      ],
      "metadata": {
        "colab": {
          "base_uri": "https://localhost:8080/"
        },
        "id": "OaMFsbkKjpFs",
        "outputId": "2c4612b9-c06f-424d-ced9-d36e3dd06239"
      },
      "execution_count": 21,
      "outputs": [
        {
          "output_type": "stream",
          "name": "stdout",
          "text": [
            "                                   Ketan Pawar\n",
            "                                   Computer Science Engineer\n",
            "                                   Professional Goals\n",
            "                                   To secure a challenging position in a reputable organization to\n",
            "                                   expand my learnings, knowledge and skills, while making a\n",
            "                                   significant contribution to the success of the company.\n",
            "Personal Info                      Experience\n",
            "Address:\n",
            "Pune, Maharashtra                  Automation | Web Development | Localization | Speech Recognition\n",
            "                                   FidelSofttech | June 2019 - July 2019\n",
            "Email:                             - Worked on automation under project like Amazon Alexa\n",
            "kp27052000@gmail.com               - Worked on live website development and updation\n",
            "                                   - Worked on speech recognition project\n",
            "Mobile:\n",
            "7620918502                         Frontend Developer Intern\n",
            "                                   Websatva | Dec 2019 - Jan 2020\n",
            "LinkedIn:\n",
            "                                   - Worked on frontend using html, css, javascript.\n",
            "https://www.linkedin.com/in/ketan- - Worked with software like visual studio code.\n",
            "pawar-06120416b\n",
            "                                   Digital and Social Media Marketing\n",
            "Languages                          PCET's Pune Business School | Jan 2021 - March 2021\n",
            "English                            - Worked on digital marketing and social media handling\n",
            "                                   - Worked on video editing, content writing\n",
            "Professional working proficiency\n",
            "                                   - Hosting of master class series, worked on page SEO\n",
            "Hindi\n",
            "Full professional proficiency      Education\n",
            "Marathi\n",
            "Native proficiency\n",
            "                                   B. Tech - Computer Science\n",
            "Japanese\n",
            "                                   PCET's Nutan College of Engineering and Research | 2018-2022\n",
            "Elementary proficiency\n",
            "                                   Pursing B. Tech in Computer Science, Final Year (Current CGPA : 9.24)\n",
            "Programming Lang\n",
            "Python                             HSC and SSC\n",
            "Java                               S.F.J.V school and college | HSC(2018) and SSC(2016)\n",
            "SQL                                Completed HSC and SSC with 75.08% and 91.60% respectively.\n",
            "C\n",
            "HTML/CSS                           Projects\n",
            "                                   Anonymity Web App\n",
            "Business Skills                    Working on our B.Tech final year project called Anonymity Web Application\n",
            "Communication\n",
            "Leadership                         Doctors Appointment System\n",
            "Management\n",
            "                                   Made a simple appointment system for doctor and patient using ChatBot for\n",
            "Creativity                         second year project.\n",
            "Team Work\n",
            "Problem Solving                    Pick and Place Robot\n",
            "                                   Made pick and place robot for my first year project, also for Rotary club\n",
            "Hobbies                            organized Techfest competition.\n",
            "Singing                            Volunteering and Activities\n",
            "Skating\n",
            "Reading                            Sakal YIN Management Committee Member\n",
            "                                   Worked in Management committee of sakal YIN summer youth summit, in which\n",
            "                                   three district namely mumbai, solapur, pune volunteer worked under me.\n",
            "                                   Management Committee member and anchor of International\n",
            "                                   Conference (ICCIP)\n",
            "                                   Worked as an anchor and committee member at International Conference on\n",
            "                                   Communication and Information Processing. Overall Management of ICCIP.\n",
            "                                   Host and Anchor of Zonal Level of Avishkar Compitition | Volunteer\n",
            "                                   for Enduro Student India ( A car racing event)\n",
            "                                   Hosted/anchored zonal level Avishkar competition organized by DBatu uni.\n",
            "\n"
          ]
        }
      ]
    },
    {
      "cell_type": "code",
      "source": [
        "import PyPDF2\n",
        "import spacy\n",
        "from spacy.matcher import Matcher\n",
        "import pdftotext\n",
        "import pandas as pd\n",
        "import os"
      ],
      "metadata": {
        "id": "jnkLUNa0k4Qz"
      },
      "execution_count": 23,
      "outputs": []
    },
    {
      "cell_type": "code",
      "source": [
        ""
      ],
      "metadata": {
        "id": "Camdlrg1lEik"
      },
      "execution_count": null,
      "outputs": []
    }
  ]
}