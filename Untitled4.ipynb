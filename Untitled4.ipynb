{
  "nbformat": 4,
  "nbformat_minor": 0,
  "metadata": {
    "colab": {
      "name": "Untitled4.ipynb",
      "provenance": [],
      "authorship_tag": "ABX9TyOQTz29twVkEvmMZtQsJqUm",
      "include_colab_link": true
    },
    "kernelspec": {
      "name": "python3",
      "display_name": "Python 3"
    },
    "language_info": {
      "name": "python"
    }
  },
  "cells": [
    {
      "cell_type": "markdown",
      "metadata": {
        "id": "view-in-github",
        "colab_type": "text"
      },
      "source": [
        "<a href=\"https://colab.research.google.com/github/pararthdave/ResumeParser/blob/shubham/Untitled4.ipynb\" target=\"_parent\"><img src=\"https://colab.research.google.com/assets/colab-badge.svg\" alt=\"Open In Colab\"/></a>"
      ]
    },
    {
      "cell_type": "code",
      "execution_count": null,
      "metadata": {
        "id": "Fw2hEmDJjHvo"
      },
      "outputs": [],
      "source": [
        "!pip install spacy --quite"
      ]
    },
    {
      "cell_type": "code",
      "source": [
        "!sudo apt install build-essential libpoppler-cpp-dev pkg-config python3-dev"
      ],
      "metadata": {
        "id": "Qk2YxPLgjXdM"
      },
      "execution_count": null,
      "outputs": []
    },
    {
      "cell_type": "code",
      "source": [
        "!pip install pdftotext"
      ],
      "metadata": {
        "id": "HBxjQyAkjkHG"
      },
      "execution_count": null,
      "outputs": []
    },
    {
      "cell_type": "code",
      "source": [
        "import pdftotext\n",
        "import spacy"
      ],
      "metadata": {
        "id": "tQhMetkTkUVC"
      },
      "execution_count": null,
      "outputs": []
    },
    {
      "cell_type": "code",
      "source": [
        "nlp = spacy.load('en_core_web_sm')"
      ],
      "metadata": {
        "id": "Cc97z7Zxk_6B"
      },
      "execution_count": null,
      "outputs": []
    },
    {
      "cell_type": "code",
      "source": [
        "with open(\"/content/ravisatvik.192_Resume.pdf\", \"rb\") as f:\n",
        "    pdf = pdftotext.PDF(f)"
      ],
      "metadata": {
        "id": "G62wgdG9kT62"
      },
      "execution_count": null,
      "outputs": []
    },
    {
      "cell_type": "code",
      "source": [
        "\n"
      ],
      "metadata": {
        "id": "C5qU8zeukymg"
      },
      "execution_count": null,
      "outputs": []
    },
    {
      "cell_type": "code",
      "source": [
        "for page in pdf:\n",
        "    text1 = page"
      ],
      "metadata": {
        "id": "-ouSRPeX_KFC"
      },
      "execution_count": null,
      "outputs": []
    },
    {
      "cell_type": "code",
      "source": [
        "result = text1.title()"
      ],
      "metadata": {
        "id": "p9XMUa52raey"
      },
      "execution_count": null,
      "outputs": []
    },
    {
      "cell_type": "code",
      "source": [
        "gpe = [] # countries, cities, states\n",
        "\n"
      ],
      "metadata": {
        "id": "9JDZqOoclCVP"
      },
      "execution_count": null,
      "outputs": []
    },
    {
      "cell_type": "code",
      "source": [
        "doc = nlp(result)\n",
        "for ent in doc.ents:\n",
        "    if (ent.label_ == 'GPE'):\n",
        "        gpe.append(ent.text)\n",
        "    "
      ],
      "metadata": {
        "id": "rxi7Z87RlHVv"
      },
      "execution_count": null,
      "outputs": []
    },
    {
      "cell_type": "code",
      "source": [
        "\n",
        "print(gpe)"
      ],
      "metadata": {
        "id": "qQON_pHrlN9e",
        "outputId": "6069c326-793d-4e91-c118-d5c901a0aa31",
        "colab": {
          "base_uri": "https://localhost:8080/"
        }
      },
      "execution_count": null,
      "outputs": [
        {
          "output_type": "stream",
          "name": "stdout",
          "text": [
            "['Bangalore', 'Chennai']\n"
          ]
        }
      ]
    },
    {
      "cell_type": "markdown",
      "source": [
        "# New Section"
      ],
      "metadata": {
        "id": "SiXdrBj9u-5e"
      }
    }
  ]
}