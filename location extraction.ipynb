{
  "cells": [
    {
      "cell_type": "markdown",
      "metadata": {
        "id": "view-in-github",
        "colab_type": "text"
      },
      "source": [
        "<a href=\"https://colab.research.google.com/github/pararthdave/ResumeParser/blob/shubham/location%20extraction.ipynb\" target=\"_parent\"><img src=\"https://colab.research.google.com/assets/colab-badge.svg\" alt=\"Open In Colab\"/></a>"
      ]
    },
    {
      "cell_type": "code",
      "execution_count": null,
      "metadata": {
        "id": "Fw2hEmDJjHvo"
      },
      "outputs": [],
      "source": [
        "!pip install spacy --quite"
      ]
    },
    {
      "cell_type": "code",
      "execution_count": null,
      "metadata": {
        "id": "Qk2YxPLgjXdM"
      },
      "outputs": [],
      "source": [
        "!sudo apt install build-essential libpoppler-cpp-dev pkg-config python3-dev"
      ]
    },
    {
      "cell_type": "code",
      "execution_count": null,
      "metadata": {
        "id": "HBxjQyAkjkHG"
      },
      "outputs": [],
      "source": [
        "!pip install pdftotext"
      ]
    },
    {
      "cell_type": "code",
      "execution_count": null,
      "metadata": {
        "id": "tQhMetkTkUVC"
      },
      "outputs": [],
      "source": [
        "import pdftotext\n",
        "import spacy"
      ]
    },
    {
      "cell_type": "code",
      "execution_count": null,
      "metadata": {
        "id": "2wEW_u8AaflR"
      },
      "outputs": [],
      "source": [
        "def pdfTotext():\n",
        "  with open(\"/content/pararthdave_Resume.pdf\", \"rb\") as f:\n",
        "      pdf = pdftotext.PDF(f)\n",
        "      for page in pdf:\n",
        "        temp = page\n",
        "      return temp"
      ]
    },
    {
      "cell_type": "code",
      "execution_count": null,
      "metadata": {
        "id": "Hnl2rCwddvJ3"
      },
      "outputs": [],
      "source": [
        "text = pdfTotext().title()\n",
        "text1 = \"lucknow\""
      ]
    },
    {
      "cell_type": "code",
      "execution_count": null,
      "metadata": {
        "id": "G62wgdG9kT62"
      },
      "outputs": [],
      "source": [
        "def extract_location(text):\n",
        "  nlp = spacy.load('en_core_web_sm')\n",
        "  doc = nlp(text)\n",
        "  gpe = [] # countries, cities, states\n",
        "  for ent in doc.ents:\n",
        "    if (ent.label_ == 'GPE'):\n",
        "        gpe.append(ent.text)\n",
        "    if gpe == None:\n",
        "      return print(\"No location is mentioned in resume\")\n",
        "  return gpe"
      ]
    },
    {
      "cell_type": "code",
      "execution_count": null,
      "metadata": {
        "id": "qQON_pHrlN9e",
        "colab": {
          "base_uri": "https://localhost:8080/"
        },
        "outputId": "05a5a214-f306-4f69-d1bb-77c55fde4354"
      },
      "outputs": [
        {
          "output_type": "stream",
          "name": "stdout",
          "text": [
            "[]\n"
          ]
        }
      ],
      "source": [
        "gpe = list(set(location(text1)))\n",
        "print(gpe)\n"
      ]
    },
    {
      "cell_type": "markdown",
      "metadata": {
        "id": "SiXdrBj9u-5e"
      },
      "source": [
        "# New Section"
      ]
    }
  ],
  "metadata": {
    "colab": {
      "name": "Untitled4.ipynb",
      "provenance": [],
      "toc_visible": true,
      "authorship_tag": "ABX9TyOyILexEn6hVM6h9PL2xcPd",
      "include_colab_link": true
    },
    "kernelspec": {
      "display_name": "Python 3",
      "name": "python3"
    },
    "language_info": {
      "name": "python"
    }
  },
  "nbformat": 4,
  "nbformat_minor": 0
}