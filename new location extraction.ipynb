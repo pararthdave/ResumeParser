{
  "nbformat": 4,
  "nbformat_minor": 0,
  "metadata": {
    "colab": {
      "name": "Untitled8.ipynb",
      "provenance": [],
      "authorship_tag": "ABX9TyNQQfqfCLAKKa9W8tje8fF8",
      "include_colab_link": true
    },
    "kernelspec": {
      "name": "python3",
      "display_name": "Python 3"
    },
    "language_info": {
      "name": "python"
    }
  },
  "cells": [
    {
      "cell_type": "markdown",
      "metadata": {
        "id": "view-in-github",
        "colab_type": "text"
      },
      "source": [
        "<a href=\"https://colab.research.google.com/github/pararthdave/ResumeParser/blob/shubham/new%20location%20extraction.ipynb\" target=\"_parent\"><img src=\"https://colab.research.google.com/assets/colab-badge.svg\" alt=\"Open In Colab\"/></a>"
      ]
    },
    {
      "cell_type": "code",
      "execution_count": null,
      "metadata": {
        "id": "e07ZTgxcMsLd"
      },
      "outputs": [],
      "source": [
        "#required modules\n",
        "!pip install locationtagger\n",
        "!pip install NLTK\n",
        "import nltk\n",
        "import spacy\n",
        "import locationtagger\n",
        "  \n",
        "# essential entity models downloads\n",
        "nltk.downloader.download('maxent_ne_chunker')\n",
        "nltk.downloader.download('words')\n",
        "nltk.downloader.download('treebank')\n",
        "nltk.downloader.download('maxent_treebank_pos_tagger')\n",
        "nltk.downloader.download('punkt')\n",
        "nltk.download('averaged_perceptron_tagger')\n"
      ]
    },
    {
      "cell_type": "code",
      "source": [
        "!sudo apt install build-essential libpoppler-cpp-dev pkg-config python3-dev\n",
        "!pip install pdftotext\n",
        "import pdftotext\n"
      ],
      "metadata": {
        "id": "1ktQQ9QMOkH-"
      },
      "execution_count": null,
      "outputs": []
    },
    {
      "cell_type": "code",
      "source": [
        "#to read pdf\n",
        "def pdfTotext():\n",
        "  with open(\"/content/Priyanka_RaikwarRESUME.pdf\", \"rb\") as f:\n",
        "      pdf = pdftotext.PDF(f)\n",
        "      for page in pdf:\n",
        "        temp = page\n",
        "      return temp"
      ],
      "metadata": {
        "id": "8rPsUGEFO7KZ"
      },
      "execution_count": 37,
      "outputs": []
    },
    {
      "cell_type": "code",
      "source": [
        "#function to get location\n",
        "def locationExtraction(text):\n",
        "  text = text.title()\n",
        "  place_entity = locationtagger.find_locations(text = text)\n",
        "  ans = (place_entity.country_cities)\n",
        "  \n",
        "  if \"India\" in ans:\n",
        "    gpe = (ans['India'])\n",
        "  else:\n",
        "    gpe = \"No location found\"\n",
        "\n",
        "  return gpe\n"
      ],
      "metadata": {
        "id": "DGX6scLOPkTe"
      },
      "execution_count": 46,
      "outputs": []
    }
  ]
}